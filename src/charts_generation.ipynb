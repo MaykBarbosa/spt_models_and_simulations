{
 "cells": [
  {
   "cell_type": "code",
   "execution_count": null,
   "id": "eae79e7b",
   "metadata": {},
   "outputs": [],
   "source": []
  },
  {
   "cell_type": "code",
   "execution_count": null,
   "id": "f9ff93e6",
   "metadata": {},
   "outputs": [],
   "source": [
    "def load_metric_from_all_datasets(metric_name: str) -> dict:\n",
    "    \"\"\"\n",
    "    Carrega uma métrica específica dos arquivos de métricas de treinamento D1 a D4.\n",
    "\n",
    "    Args:\n",
    "        metric_name (str): Nome da métrica a ser carregada.\n",
    "\n",
    "    Returns:\n",
    "        dict: Dicionário com as métricas carregadas, chaves sendo 'D1', 'D2', 'D3', 'D4'.\n",
    "    \"\"\"\n",
    "    metrics_dict = {}\n",
    "    for i in range(1, 5):\n",
    "        file_path = os.path.join(os.environ['SAVE_DIR'], f'training_metrics_D{i}.pkl')\n",
    "        with open(file_path, 'rb') as f:\n",
    "            metrics = pickle.load(f)\n",
    "            if metric_name not in metrics:\n",
    "                raise KeyError(f\"Métrica '{metric_name}' não encontrada em training_metrics_D{i}.pkl\")\n",
    "            metrics_dict[f'D{i}'] = metrics[metric_name]\n",
    "    return metrics_dict"
   ]
  },
  {
   "cell_type": "code",
   "execution_count": null,
   "id": "225c4d64",
   "metadata": {},
   "outputs": [],
   "source": [
    "# loss_per_epoch = load_metric_from_all_datasets('avg_epoch_loss_vect')\n",
    "# adaptative_lambda_1 = load_metric_from_all_datasets('lambda_1_vect')\n",
    "# adaptative_lambda_2 = load_metric_from_all_datasets('lambda_2_vect')\n"
   ]
  },
  {
   "cell_type": "code",
   "execution_count": null,
   "id": "85b564f4",
   "metadata": {},
   "outputs": [],
   "source": [
    "# Gerar imagem com 4 gráficos (1 por dataset)\n",
    "fig, axs = plt.subplots(2, 2, figsize=(12, 8))\n",
    "axs = axs.flatten()\n",
    "\n",
    "for i, key in enumerate(['D1', 'D2', 'D3', 'D4']):\n",
    "    axs[i].plot(loss_per_epoch[key])\n",
    "    if key == 'D4':\n",
    "        key = 'Amostra de Treino Completa'\n",
    "    axs[i].set_title(f'Perda por Época - {key}')\n",
    "    axs[i].set_xlabel('Época')\n",
    "    axs[i].set_ylabel('Perda')\n",
    "    axs[i].grid(True)\n",
    "\n",
    "\n",
    "plt.tight_layout()\n",
    "plt.show()\n"
   ]
  },
  {
   "cell_type": "code",
   "execution_count": null,
   "id": "f51edff2",
   "metadata": {},
   "outputs": [],
   "source": [
    "fig, axs = plt.subplots(2, 2, figsize=(12, 8))\n",
    "axs = axs.flatten()\n",
    "\n",
    "for i, key in enumerate(['D1', 'D2', 'D3', 'D4']):\n",
    "    cut = 100\n",
    "    if key == 'D4':\n",
    "        cut = 150\n",
    "\n",
    "    y_vals = loss_per_epoch[key][cut:]\n",
    "    x_vals = list(range(cut, cut + len(y_vals)))\n",
    "\n",
    "    axs[i].plot(x_vals, y_vals)\n",
    "\n",
    "    title_key = 'Amostra de Treino Completa' if key == 'D4' else key\n",
    "    axs[i].set_title(f'Perda por Época - {title_key}')\n",
    "    axs[i].set_xlabel('Época')\n",
    "    axs[i].set_ylabel('Perda')\n",
    "    axs[i].grid(True)\n",
    "\n",
    "plt.tight_layout()\n",
    "plt.show()\n"
   ]
  },
  {
   "cell_type": "code",
   "execution_count": null,
   "id": "73cf28b2",
   "metadata": {},
   "outputs": [],
   "source": [
    "\n",
    "fig, axs = plt.subplots(2, 2, figsize=(12, 8))\n",
    "axs = axs.flatten()\n",
    "\n",
    "for i, key in enumerate(['D1', 'D2', 'D3', 'D4']):\n",
    "    ax1 = axs[i]\n",
    "    ax2 = ax1.twinx()  # cria segundo eixo Y\n",
    "\n",
    "    ln1 = ax1.plot(adaptative_lambda_1[key], label=r'$\\lambda_1$', color='tab:blue')\n",
    "    ln2 = ax2.plot(adaptative_lambda_2[key], label=r'$\\lambda_2$', color='tab:orange', linestyle='--')\n",
    "\n",
    "    if key == 'D4':\n",
    "        title_key = 'Amostra de Treino Completa'\n",
    "    else:\n",
    "        title_key = key\n",
    "\n",
    "    ax1.set_title(f'Parâmetros Adaptativos - {title_key}')\n",
    "    ax1.set_xlabel('Época')\n",
    "    ax1.set_ylabel(r'$\\lambda_1$', color='tab:blue')\n",
    "    ax2.set_ylabel(r'$\\lambda_2$', color='tab:orange')\n",
    "\n",
    "    # Combina as legendas dos dois eixos\n",
    "    lns = ln1 + ln2\n",
    "    labels = [l.get_label() for l in lns]\n",
    "    ax1.legend(lns, labels, loc='upper right')\n",
    "\n",
    "    ax1.grid(True)\n",
    "\n",
    "plt.tight_layout()\n",
    "plt.show()\n"
   ]
  },
  {
   "cell_type": "code",
   "execution_count": null,
   "id": "0818a4a4",
   "metadata": {},
   "outputs": [],
   "source": []
  }
 ],
 "metadata": {
  "language_info": {
   "name": "python"
  }
 },
 "nbformat": 4,
 "nbformat_minor": 5
}
